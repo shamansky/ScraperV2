{
 "cells": [
  {
   "cell_type": "code",
   "execution_count": 1,
   "metadata": {},
   "outputs": [
    {
     "name": "stdout",
     "output_type": "stream",
     "text": [
      "Collecting httplib2\n",
      "  Downloading httplib2-0.18.1-py3-none-any.whl (95 kB)\n",
      "\u001b[K     |████████████████████████████████| 95 kB 1.5 MB/s eta 0:00:011\n",
      "\u001b[?25hInstalling collected packages: httplib2\n",
      "Successfully installed httplib2-0.18.1\n"
     ]
    }
   ],
   "source": [
    "!pip install httplib2\n"
   ]
  },
  {
   "cell_type": "code",
   "execution_count": 2,
   "metadata": {},
   "outputs": [],
   "source": [
    "import httplib2\n",
    "import webbrowser\n",
    "from pprint import pprint\n"
   ]
  },
  {
   "cell_type": "code",
   "execution_count": 3,
   "metadata": {},
   "outputs": [],
   "source": [
    "bin_url = 'https://httpbin.org/'"
   ]
  },
  {
   "cell_type": "code",
   "execution_count": 4,
   "metadata": {},
   "outputs": [
    {
     "data": {
      "text/plain": [
       "True"
      ]
     },
     "execution_count": 4,
     "metadata": {},
     "output_type": "execute_result"
    }
   ],
   "source": [
    "webbrowser.open(bin_url)"
   ]
  },
  {
   "cell_type": "code",
   "execution_count": 5,
   "metadata": {},
   "outputs": [],
   "source": [
    "http = httplib2.Http()"
   ]
  },
  {
   "cell_type": "code",
   "execution_count": 6,
   "metadata": {},
   "outputs": [],
   "source": [
    "resp, data = http.request(bin_url)"
   ]
  },
  {
   "cell_type": "code",
   "execution_count": 7,
   "metadata": {},
   "outputs": [
    {
     "name": "stdout",
     "output_type": "stream",
     "text": [
      "{'access-control-allow-credentials': 'true',\n",
      " 'access-control-allow-origin': '*',\n",
      " 'connection': 'keep-alive',\n",
      " 'content-length': '9593',\n",
      " 'content-location': 'https://httpbin.org/',\n",
      " 'content-type': 'text/html; charset=utf-8',\n",
      " 'date': 'Tue, 25 Aug 2020 10:26:55 GMT',\n",
      " 'server': 'gunicorn/19.9.0',\n",
      " 'status': '200'}\n"
     ]
    }
   ],
   "source": [
    "pprint(resp)"
   ]
  },
  {
   "cell_type": "code",
   "execution_count": 8,
   "metadata": {},
   "outputs": [
    {
     "data": {
      "text/plain": [
       "(httplib2.Response, 9)"
      ]
     },
     "execution_count": 8,
     "metadata": {},
     "output_type": "execute_result"
    }
   ],
   "source": [
    "type(resp), len(resp)"
   ]
  },
  {
   "cell_type": "code",
   "execution_count": 9,
   "metadata": {},
   "outputs": [
    {
     "data": {
      "text/plain": [
       "(200, 'OK', 11)"
      ]
     },
     "execution_count": 9,
     "metadata": {},
     "output_type": "execute_result"
    }
   ],
   "source": [
    "resp.status, resp.reason, resp.version"
   ]
  },
  {
   "cell_type": "code",
   "execution_count": 10,
   "metadata": {},
   "outputs": [
    {
     "name": "stdout",
     "output_type": "stream",
     "text": [
      "(b'<!DOCTYPE html>\\n<html lang=\"en\">\\n\\n<head>\\n    <meta charset=\"UTF-8\">\\n'\n",
      " b'    <title>httpbin.org</title>\\n    <link href=\"https://fonts.googleapis.'\n",
      " b'com/css?family=Open+Sans:400,700|Source+Code+Pro:300,600|Titillium+Web:400,6'\n",
      " b'00,700\"\\n        rel=\"stylesheet\">\\n    <link rel=\"stylesheet\" type=\"text/'\n",
      " b'css\" href=\"/flasgger_static/swagger-ui.css\">\\n    <link rel=\"icon\" type=\"'\n",
      " b'image/png\" href=\"/static/favicon.ico\" sizes=\"64x64 32x32 16x16\" />\\n    <'\n",
      " b'style>\\n        html {\\n            box-sizing: border-box;\\n            ov'\n",
      " b'erflow: -moz-scrollbars-vertical;\\n            overflow-y: scroll;\\n      '\n",
      " b'  }\\n\\n        *,\\n        *:before,\\n        *:after {\\n            box-'\n",
      " b'sizing: inherit;\\n        }\\n\\n        body {\\n            margin: 0;\\n  '\n",
      " b'          background: #fafafa;\\n        }\\n    </style>\\n</head>\\n\\n<body'\n",
      " b'>\\n    <a href=\"https://github.com/requests/httpbin\" class=\"github-corner'\n",
      " b'\" aria-label=\"View source on Github\">\\n        <svg width=\"80\" height=\"80'\n",
      " b'\" viewBox=\"0 0 250 250\" style=\"fill:#151513; color:#fff; position: absolute;'\n",
      " b' top: 0; border: 0; right: 0;\"\\n            aria-hidden=\"true\">\\n         '\n",
      " b'   <path d=\"M0,0 L115,115 L130,115 L142,142 L250,250 L250,0 Z\"></path>\\n '\n",
      " b'           <path d=\"M128.3,109.0 C113.8,99.7 119.0,89.6 119.0,89.6 C122.0,82'\n",
      " b'.7 120.5,78.6 120.5,78.6 C119.2,72.0 123.4,76.3 123.4,76.3 C127.3,80.9 125.5'\n",
      " b',87.3 125.5,87.3 C122.9,97.6 130.6,101.9 134.4,103.2\"\\n                fi'\n",
      " b'll=\"currentColor\" style=\"transform-origin: 130px 106px;\" class=\"octo-arm\"></'\n",
      " b'path>\\n            <path d=\"M115.0,115.0 C114.9,115.1 118.7,116.5 119.8,1'\n",
      " b'15.4 L133.7,101.6 C136.9,99.2 139.9,98.4 142.2,98.6 C133.8,88.0 127.5,74.4 1'\n",
      " b'43.8,58.0 C148.5,53.4 154.0,51.2 159.7,51.0 C160.3,49.4 163.2,43.6 171.4,40.'\n",
      " b'1 C171.4,40.1 176.1,42.5 178.8,56.2 C183.1,58.6 187.2,61.8 190.9,65.4 C194.5'\n",
      " b',69.0 197.7,73.2 200.1,77.6 C213.8,80.2 216.3,84.9 216.3,84.9 C212.7,93.1 20'\n",
      " b'6.9,96.0 205.4,96.6 C205.1,102.4 203.0,107.8 198.3,112.5 C181.9,128.9 168.3,'\n",
      " b'122.5 157.7,114.1 C157.9,116.9 156.7,120.9 152.7,124.9 L141.0,136.5 C139.8,1'\n",
      " b'37.7 141.6,141.9 141.8,141.8 Z\"\\n                fill=\"currentColor\" clas'\n",
      " b's=\"octo-body\"></path>\\n        </svg>\\n    </a>\\n    <svg xmlns=\"http://www'\n",
      " b'.w3.org/2000/svg\" xmlns:xlink=\"http://www.w3.org/1999/xlink\" style=\"position'\n",
      " b':absolute;width:0;height:0\">\\n        <defs>\\n            <symbol viewBox='\n",
      " b'\"0 0 20 20\" id=\"unlocked\">\\n                <path d=\"M15.8 8H14V5.6C14 2.'\n",
      " b'703 12.665 1 10 1 7.334 1 6 2.703 6 5.6V6h2v-.801C8 3.754 8.797 3 10 3c1.203'\n",
      " b' 0 2 .754 2 2.199V8H4c-.553 0-1 .646-1 1.199V17c0 .549.428 1.139.951 1.307l1'\n",
      " b'.197.387C5.672 18.861 6.55 19 7.1 19h5.8c.549 0 1.428-.139 1.951-.307l1.196-'\n",
      " b'.387c.524-.167.953-.757.953-1.306V9.199C17 8.646 16.352 8 15.8 8z\"></pat'\n",
      " b'h>\\n            </symbol>\\n\\n            <symbol viewBox=\"0 0 20 20\" id=\"lo'\n",
      " b'cked\">\\n                <path d=\"M15.8 8H14V5.6C14 2.703 12.665 1 10 1 7.'\n",
      " b'334 1 6 2.703 6 5.6V8H4c-.553 0-1 .646-1 1.199V17c0 .549.428 1.139.951 1.307'\n",
      " b'l1.197.387C5.672 18.861 6.55 19 7.1 19h5.8c.549 0 1.428-.139 1.951-.307l1.19'\n",
      " b'6-.387c.524-.167.953-.757.953-1.306V9.199C17 8.646 16.352 8 15.8 8zM12 8H8V5'\n",
      " b'.199C8 3.754 8.797 3 10 3c1.203 0 2 .754 2 2.199V8z\"\\n                />\\n'\n",
      " b'            </symbol>\\n\\n            <symbol viewBox=\"0 0 20 20\" id=\"close'\n",
      " b'\">\\n                <path d=\"M14.348 14.849c-.469.469-1.229.469-1.697 0L1'\n",
      " b'0 11.819l-2.651 3.029c-.469.469-1.229.469-1.697 0-.469-.469-.469-1.229 0-1.6'\n",
      " b'97l2.758-3.15-2.759-3.152c-.469-.469-.469-1.228 0-1.697.469-.469 1.228-.469 '\n",
      " b'1.697 0L10 8.183l2.651-3.031c.469-.469 1.228-.469 1.697 0 .469.469.469 1.229'\n",
      " b' 0 1.697l-2.758 3.152 2.758 3.15c.469.469.469 1.229 0 1.698z\"\\n          '\n",
      " b'      />\\n            </symbol>\\n\\n            <symbol viewBox=\"0 0 20 20\" '\n",
      " b'id=\"large-arrow\">\\n                <path d=\"M13.25 10L6.109 2.58c-.268-.2'\n",
      " b'7-.268-.707 0-.979.268-.27.701-.27.969 0l7.83 7.908c.268.271.268.709 0 .979l'\n",
      " b'-7.83 7.908c-.268.271-.701.27-.969 0-.268-.269-.268-.707 0-.979L13.25 10'\n",
      " b'z\"\\n                />\\n            </symbol>\\n\\n            <symbol viewBox'\n",
      " b'=\"0 0 20 20\" id=\"large-arrow-down\">\\n                <path d=\"M17.418 6.1'\n",
      " b'09c.272-.268.709-.268.979 0s.271.701 0 .969l-7.908 7.83c-.27.268-.707.268-.9'\n",
      " b'79 0l-7.908-7.83c-.27-.268-.27-.701 0-.969.271-.268.709-.268.979 0L10 13.25l'\n",
      " b'7.418-7.141z\"\\n                />\\n            </symbol>\\n\\n\\n           '\n",
      " b' <symbol viewBox=\"0 0 24 24\" id=\"jump-to\">\\n                <path d=\"M19 '\n",
      " b'7v4H5.83l3.58-3.59L8 6l-6 6 6 6 1.41-1.41L5.83 13H21V7z\" />\\n            '\n",
      " b'</symbol>\\n\\n            <symbol viewBox=\"0 0 24 24\" id=\"expand\">\\n        '\n",
      " b'        <path d=\"M10 18h4v-2h-4v2zM3 6v2h18V6H3zm3 7h12v-2H6v2z\" />\\n    '\n",
      " b'        </symbol>\\n\\n        </defs>\\n    </svg>\\n\\n\\n    <div id=\"swagger'\n",
      " b'-ui\">\\n        <div data-reactroot=\"\" class=\"swagger-ui\">\\n            <di'\n",
      " b'v>\\n                <div class=\"information-container wrapper\">\\n         '\n",
      " b'           <section class=\"block col-12\">\\n                        <div c'\n",
      " b'lass=\"info\">\\n                            <hgroup class=\"main\">\\n         '\n",
      " b'                       <h2 class=\"title\">httpbin.org\\n                   '\n",
      " b'                 <small>\\n                                        <pre cl'\n",
      " b'ass=\"version\">0.9.2</pre>\\n                                    </small>\\n '\n",
      " b'                               </h2>\\n                                <pr'\n",
      " b'e class=\"base-url\">[ Base URL: httpbin.org/ ]</pre>\\n                    '\n",
      " b'        </hgroup>\\n                            <div class=\"description\">\\n'\n",
      " b'                                <div class=\"markdown\">\\n                 '\n",
      " b'                   <p>A simple HTTP Request &amp; Response Service.\\n    '\n",
      " b'                                    <br>\\n                               '\n",
      " b'         <br>\\n                                        <b>Run locally: </'\n",
      " b'b>\\n                                        <code>$ docker run -p 80:80 k'\n",
      " b'ennethreitz/httpbin</code>\\n                                    </p>\\n    '\n",
      " b'                            </div>\\n                            </div>\\n  '\n",
      " b'                          <div>\\n                                <div>\\n  '\n",
      " b'                                  <a href=\"https://kennethreitz.org\" target='\n",
      " b'\"_blank\">the developer - Website</a>\\n                                </d'\n",
      " b'iv>\\n                                <a href=\"mailto:me@kennethreitz.org\"'\n",
      " b'>Send email to the developer</a>\\n                            </div>\\n    '\n",
      " b'                    </div>\\n                        <!-- ADDS THE LOADER '\n",
      " b'SPINNER -->\\n                        <div class=\"loading-container\">\\n    '\n",
      " b'                        <div class=\"loading\"></div>\\n                    '\n",
      " b'    </div>\\n\\n                    </section>\\n                </div>\\n      '\n",
      " b\"      </div>\\n        </div>\\n    </div>\\n\\n\\n    <div class='swagger-ui'\"\n",
      " b'>\\n        <div class=\"wrapper\">\\n            <section class=\"clear\">\\n    '\n",
      " b'            <span style=\"float: right;\">\\n                    [Powered by'\n",
      " b'\\n                    <a target=\"_blank\" href=\"https://github.com/rochacb'\n",
      " b'runo/flasgger\">Flasgger</a>]\\n                    <br>\\n                </'\n",
      " b'span>\\n            </section>\\n        </div>\\n    </div>\\n\\n\\n\\n    <scrip'\n",
      " b't src=\"/flasgger_static/swagger-ui-bundle.js\"> </script>\\n    <script src'\n",
      " b'=\"/flasgger_static/swagger-ui-standalone-preset.js\"> </script>\\n    <scri'\n",
      " b\"pt src='/flasgger_static/lib/jquery.min.js' type='text/javascript'></script>\"\n",
      " b'\\n    <script>\\n\\n        window.onload = function () {\\n            \\n\\n '\n",
      " b'           fetch(\"/spec.json\")\\n                .then(function (response)'\n",
      " b' {\\n                    response.json()\\n                        .then(fun'\n",
      " b'ction (json) {\\n                            var current_protocol = window'\n",
      " b'.location.protocol.slice(0, -1);\\n                            if (json.sc'\n",
      " b'hemes[0] != current_protocol) {\\n                                // Switc'\n",
      " b'hes scheme to the current in use\\n                                var oth'\n",
      " b'er_protocol = json.schemes[0];\\n                                json.sche'\n",
      " b'mes[0] = current_protocol;\\n                                json.schemes['\n",
      " b'1] = other_protocol;\\n\\n                            }\\n                    '\n",
      " b'        json.host = window.location.host;  // sets the current host\\n\\n   '\n",
      " b'                         const ui = SwaggerUIBundle({\\n                  '\n",
      " b'              spec: json,\\n                                validatorUrl: '\n",
      " b\"null,\\n                                dom_id: '#swagger-ui',\\n           \"\n",
      " b'                     deepLinking: true,\\n                                '\n",
      " b'jsonEditor: true,\\n                                docExpansion: \"none\",\\n'\n",
      " b'                                apisSorter: \"alpha\",\\n                   '\n",
      " b'             //operationsSorter: \"alpha\",\\n                              '\n",
      " b'  presets: [\\n                                    SwaggerUIBundle.presets'\n",
      " b'.apis,\\n                                    // yay ES6 modules \\xe2\\x86'\n",
      " b'\\x98\\n                                    Array.isArray(SwaggerUIStandaloneP'\n",
      " b'reset) ? SwaggerUIStandalonePreset : SwaggerUIStandalonePreset.default\\n '\n",
      " b'                               ],\\n                                plugin'\n",
      " b's: [\\n                                    SwaggerUIBundle.plugins.Downloa'\n",
      " b'dUrl\\n                                ],\\n            \\n            // layo'\n",
      " b'ut: \"StandaloneLayout\"  // uncomment to enable the green top header\\n    '\n",
      " b'    })\\n\\n        window.ui = ui\\n\\n        // uncomment to rename the top b'\n",
      " b'rand if layout is enabled\\n        // $(\".topbar-wrapper .link span\").rep'\n",
      " b'laceWith(\"<span>httpbin</span>\");\\n        })\\n    })\\n}\\n    </script>  <di'\n",
      " b'v class=\\'swagger-ui\\'>\\n    <div class=\"wrapper\">\\n        <section class=\"'\n",
      " b'block col-12 block-desktop col-12-desktop\">\\n            <div>\\n\\n         '\n",
      " b'       <h2>Other Utilities</h2>\\n\\n                <ul>\\n                  '\n",
      " b'  <li>\\n                        <a href=\"/forms/post\">HTML form</a> that '\n",
      " b'posts to /post /forms/post</li>\\n                </ul>\\n\\n                <'\n",
      " b'br />\\n                <br />\\n            </div>\\n        </section>\\n    <'\n",
      " b'/div>\\n</div>\\n</body>\\n\\n</html>')\n"
     ]
    }
   ],
   "source": [
    "pprint(data)"
   ]
  },
  {
   "cell_type": "code",
   "execution_count": 11,
   "metadata": {},
   "outputs": [
    {
     "data": {
      "text/plain": [
       "(bytes, 9593)"
      ]
     },
     "execution_count": 11,
     "metadata": {},
     "output_type": "execute_result"
    }
   ],
   "source": [
    "type(data), len(data)"
   ]
  },
  {
   "cell_type": "code",
   "execution_count": 12,
   "metadata": {},
   "outputs": [],
   "source": [
    "html = data.decode(\"UTF-8\")"
   ]
  },
  {
   "cell_type": "code",
   "execution_count": 13,
   "metadata": {},
   "outputs": [
    {
     "data": {
      "text/plain": [
       "str"
      ]
     },
     "execution_count": 13,
     "metadata": {},
     "output_type": "execute_result"
    }
   ],
   "source": [
    "type(html)"
   ]
  },
  {
   "cell_type": "code",
   "execution_count": 14,
   "metadata": {},
   "outputs": [
    {
     "data": {
      "text/plain": [
       "str"
      ]
     },
     "execution_count": 14,
     "metadata": {},
     "output_type": "execute_result"
    }
   ],
   "source": [
    "html = data.decode(\"UTF-8\")\n",
    "type(html)"
   ]
  },
  {
   "cell_type": "code",
   "execution_count": 15,
   "metadata": {},
   "outputs": [
    {
     "name": "stdout",
     "output_type": "stream",
     "text": [
      "('<!DOCTYPE html>\\n'\n",
      " '<html lang=\"en\">\\n'\n",
      " '\\n'\n",
      " '<head>\\n'\n",
      " '    <meta charset=\"UTF-8\">\\n'\n",
      " '    <title>httpbin.org</title>\\n'\n",
      " '    <link '\n",
      " 'href=\"https://fonts.googleapis.com/css?family=Open+Sans:400,700|Source+Code+Pro:300,600|Titillium+Web:400,600,700\"\\n'\n",
      " '        rel=\"stylesheet\">\\n'\n",
      " '    <link rel=\"stylesheet\" type=\"text/css\" '\n",
      " 'href=\"/flasgger_static/swagger-ui.css\">\\n'\n",
      " '    <link rel=\"icon\" type=\"image/png\" href=\"/static/favicon.ico\" '\n",
      " 'sizes=\"64x64 32x32 16x16\" />\\n'\n",
      " '    <style>\\n'\n",
      " '        html {\\n'\n",
      " '            box-sizing: border-box;\\n'\n",
      " '            overflow: -moz-scrollbars-vertical;\\n'\n",
      " '            overflow-y: scroll;\\n'\n",
      " '        }\\n'\n",
      " '\\n'\n",
      " '        *,\\n'\n",
      " '        *:before,\\n'\n",
      " '        *:after {\\n'\n",
      " '            box-sizing: inherit;\\n'\n",
      " '        }\\n'\n",
      " '\\n'\n",
      " '        body {\\n'\n",
      " '            margin: 0;\\n'\n",
      " '            background: #fafafa;\\n'\n",
      " '        }\\n'\n",
      " '    </style>\\n'\n",
      " '</head>\\n'\n",
      " '\\n'\n",
      " '<body>\\n'\n",
      " '    <a href=\"https://github.com/requests/httpbin\" class=\"github-corner\" '\n",
      " 'aria-label=\"View source on Github\">\\n'\n",
      " '        <svg width=\"80\" height=\"80\" viewBox=\"0 0 250 250\" '\n",
      " 'style=\"fill:#151513; color:#fff; position: absolute; top: 0; border: 0; '\n",
      " 'right: 0;\"\\n'\n",
      " '            aria-hidden=\"true\">\\n'\n",
      " '            <path d=\"M0,0 L115,115 L130,115 L142,142 L250,250 L250,0 '\n",
      " 'Z\"></path>\\n'\n",
      " '            <path d=\"M128.3,109.0 C113.8,99.7 119.0,89.6 119.0,89.6 '\n",
      " 'C122.0,82.7 120.5,78.6 120.5,78.6 C119.2,72.0 123.4,76.3 123.4,76.3 '\n",
      " 'C127.3,80.9 125.5,87.3 125.5,87.3 C122.9,97.6 130.6,101.9 134.4,103.2\"\\n'\n",
      " '                fill=\"currentColor\" style=\"transform-origin: 130px 106px;\" '\n",
      " 'class=\"octo-arm\"></path>\\n'\n",
      " '            <path d=\"M115.0,115.0 C114.9,115.1 118.7,116.5 119.8,115.4 '\n",
      " 'L133.7,101.6 C136.9,99.2 139.9,98.4 142.2,98.6 C133.8,88.0 127.5,74.4 '\n",
      " '143.8,58.0 C148.5,53.4 154.0,51.2 159.7,51.0 C160.3,49.4 163.2,43.6 '\n",
      " '171.4,40.1 C171.4,40.1 176.1,42.5 178.8,56.2 C183.1,58.6 187.2,61.8 '\n",
      " '190.9,65.4 C194.5,69.0 197.7,73.2 200.1,77.6 C213.8,80.2 216.3,84.9 '\n",
      " '216.3,84.9 C212.7,93.1 206.9,96.0 205.4,96.6 C205.1,102.4 203.0,107.8 '\n",
      " '198.3,112.5 C181.9,128.9 168.3,122.5 157.7,114.1 C157.9,116.9 156.7,120.9 '\n",
      " '152.7,124.9 L141.0,136.5 C139.8,137.7 141.6,141.9 141.8,141.8 Z\"\\n'\n",
      " '                fill=\"currentColor\" class=\"octo-body\"></path>\\n'\n",
      " '        </svg>\\n'\n",
      " '    </a>\\n'\n",
      " '    <svg xmlns=\"http://www.w3.org/2000/svg\" '\n",
      " 'xmlns:xlink=\"http://www.w3.org/1999/xlink\" '\n",
      " 'style=\"position:absolute;width:0;height:0\">\\n'\n",
      " '        <defs>\\n'\n",
      " '            <symbol viewBox=\"0 0 20 20\" id=\"unlocked\">\\n'\n",
      " '                <path d=\"M15.8 8H14V5.6C14 2.703 12.665 1 10 1 7.334 1 6 '\n",
      " '2.703 6 5.6V6h2v-.801C8 3.754 8.797 3 10 3c1.203 0 2 .754 2 2.199V8H4c-.553 '\n",
      " '0-1 .646-1 1.199V17c0 .549.428 1.139.951 1.307l1.197.387C5.672 18.861 6.55 '\n",
      " '19 7.1 19h5.8c.549 0 1.428-.139 '\n",
      " '1.951-.307l1.196-.387c.524-.167.953-.757.953-1.306V9.199C17 8.646 16.352 8 '\n",
      " '15.8 8z\"></path>\\n'\n",
      " '            </symbol>\\n'\n",
      " '\\n'\n",
      " '            <symbol viewBox=\"0 0 20 20\" id=\"locked\">\\n'\n",
      " '                <path d=\"M15.8 8H14V5.6C14 2.703 12.665 1 10 1 7.334 1 6 '\n",
      " '2.703 6 5.6V8H4c-.553 0-1 .646-1 1.199V17c0 .549.428 1.139.951 '\n",
      " '1.307l1.197.387C5.672 18.861 6.55 19 7.1 19h5.8c.549 0 1.428-.139 '\n",
      " '1.951-.307l1.196-.387c.524-.167.953-.757.953-1.306V9.199C17 8.646 16.352 8 '\n",
      " '15.8 8zM12 8H8V5.199C8 3.754 8.797 3 10 3c1.203 0 2 .754 2 2.199V8z\"\\n'\n",
      " '                />\\n'\n",
      " '            </symbol>\\n'\n",
      " '\\n'\n",
      " '            <symbol viewBox=\"0 0 20 20\" id=\"close\">\\n'\n",
      " '                <path d=\"M14.348 14.849c-.469.469-1.229.469-1.697 0L10 '\n",
      " '11.819l-2.651 3.029c-.469.469-1.229.469-1.697 0-.469-.469-.469-1.229 '\n",
      " '0-1.697l2.758-3.15-2.759-3.152c-.469-.469-.469-1.228 0-1.697.469-.469 '\n",
      " '1.228-.469 1.697 0L10 8.183l2.651-3.031c.469-.469 1.228-.469 1.697 0 '\n",
      " '.469.469.469 1.229 0 1.697l-2.758 3.152 2.758 3.15c.469.469.469 1.229 0 '\n",
      " '1.698z\"\\n'\n",
      " '                />\\n'\n",
      " '            </symbol>\\n'\n",
      " '\\n'\n",
      " '            <symbol viewBox=\"0 0 20 20\" id=\"large-arrow\">\\n'\n",
      " '                <path d=\"M13.25 10L6.109 2.58c-.268-.27-.268-.707 '\n",
      " '0-.979.268-.27.701-.27.969 0l7.83 7.908c.268.271.268.709 0 .979l-7.83 '\n",
      " '7.908c-.268.271-.701.27-.969 0-.268-.269-.268-.707 0-.979L13.25 10z\"\\n'\n",
      " '                />\\n'\n",
      " '            </symbol>\\n'\n",
      " '\\n'\n",
      " '            <symbol viewBox=\"0 0 20 20\" id=\"large-arrow-down\">\\n'\n",
      " '                <path d=\"M17.418 6.109c.272-.268.709-.268.979 0s.271.701 0 '\n",
      " '.969l-7.908 7.83c-.27.268-.707.268-.979 0l-7.908-7.83c-.27-.268-.27-.701 '\n",
      " '0-.969.271-.268.709-.268.979 0L10 13.25l7.418-7.141z\"\\n'\n",
      " '                />\\n'\n",
      " '            </symbol>\\n'\n",
      " '\\n'\n",
      " '\\n'\n",
      " '            <symbol viewBox=\"0 0 24 24\" id=\"jump-to\">\\n'\n",
      " '                <path d=\"M19 7v4H5.83l3.58-3.59L8 6l-6 6 6 6 1.41-1.41L5.83 '\n",
      " '13H21V7z\" />\\n'\n",
      " '            </symbol>\\n'\n",
      " '\\n'\n",
      " '            <symbol viewBox=\"0 0 24 24\" id=\"expand\">\\n'\n",
      " '                <path d=\"M10 18h4v-2h-4v2zM3 6v2h18V6H3zm3 7h12v-2H6v2z\" />\\n'\n",
      " '            </symbol>\\n'\n",
      " '\\n'\n",
      " '        </defs>\\n'\n",
      " '    </svg>\\n'\n",
      " '\\n'\n",
      " '\\n'\n",
      " '    <div id=\"swagger-ui\">\\n'\n",
      " '        <div data-reactroot=\"\" class=\"swagger-ui\">\\n'\n",
      " '            <div>\\n'\n",
      " '                <div class=\"information-container wrapper\">\\n'\n",
      " '                    <section class=\"block col-12\">\\n'\n",
      " '                        <div class=\"info\">\\n'\n",
      " '                            <hgroup class=\"main\">\\n'\n",
      " '                                <h2 class=\"title\">httpbin.org\\n'\n",
      " '                                    <small>\\n'\n",
      " '                                        <pre class=\"version\">0.9.2</pre>\\n'\n",
      " '                                    </small>\\n'\n",
      " '                                </h2>\\n'\n",
      " '                                <pre class=\"base-url\">[ Base URL: '\n",
      " 'httpbin.org/ ]</pre>\\n'\n",
      " '                            </hgroup>\\n'\n",
      " '                            <div class=\"description\">\\n'\n",
      " '                                <div class=\"markdown\">\\n'\n",
      " '                                    <p>A simple HTTP Request &amp; Response '\n",
      " 'Service.\\n'\n",
      " '                                        <br>\\n'\n",
      " '                                        <br>\\n'\n",
      " '                                        <b>Run locally: </b>\\n'\n",
      " '                                        <code>$ docker run -p 80:80 '\n",
      " 'kennethreitz/httpbin</code>\\n'\n",
      " '                                    </p>\\n'\n",
      " '                                </div>\\n'\n",
      " '                            </div>\\n'\n",
      " '                            <div>\\n'\n",
      " '                                <div>\\n'\n",
      " '                                    <a href=\"https://kennethreitz.org\" '\n",
      " 'target=\"_blank\">the developer - Website</a>\\n'\n",
      " '                                </div>\\n'\n",
      " '                                <a href=\"mailto:me@kennethreitz.org\">Send '\n",
      " 'email to the developer</a>\\n'\n",
      " '                            </div>\\n'\n",
      " '                        </div>\\n'\n",
      " '                        <!-- ADDS THE LOADER SPINNER -->\\n'\n",
      " '                        <div class=\"loading-container\">\\n'\n",
      " '                            <div class=\"loading\"></div>\\n'\n",
      " '                        </div>\\n'\n",
      " '\\n'\n",
      " '                    </section>\\n'\n",
      " '                </div>\\n'\n",
      " '            </div>\\n'\n",
      " '        </div>\\n'\n",
      " '    </div>\\n'\n",
      " '\\n'\n",
      " '\\n'\n",
      " \"    <div class='swagger-ui'>\\n\"\n",
      " '        <div class=\"wrapper\">\\n'\n",
      " '            <section class=\"clear\">\\n'\n",
      " '                <span style=\"float: right;\">\\n'\n",
      " '                    [Powered by\\n'\n",
      " '                    <a target=\"_blank\" '\n",
      " 'href=\"https://github.com/rochacbruno/flasgger\">Flasgger</a>]\\n'\n",
      " '                    <br>\\n'\n",
      " '                </span>\\n'\n",
      " '            </section>\\n'\n",
      " '        </div>\\n'\n",
      " '    </div>\\n'\n",
      " '\\n'\n",
      " '\\n'\n",
      " '\\n'\n",
      " '    <script src=\"/flasgger_static/swagger-ui-bundle.js\"> </script>\\n'\n",
      " '    <script src=\"/flasgger_static/swagger-ui-standalone-preset.js\"> '\n",
      " '</script>\\n'\n",
      " \"    <script src='/flasgger_static/lib/jquery.min.js' \"\n",
      " \"type='text/javascript'></script>\\n\"\n",
      " '    <script>\\n'\n",
      " '\\n'\n",
      " '        window.onload = function () {\\n'\n",
      " '            \\n'\n",
      " '\\n'\n",
      " '            fetch(\"/spec.json\")\\n'\n",
      " '                .then(function (response) {\\n'\n",
      " '                    response.json()\\n'\n",
      " '                        .then(function (json) {\\n'\n",
      " '                            var current_protocol = '\n",
      " 'window.location.protocol.slice(0, -1);\\n'\n",
      " '                            if (json.schemes[0] != current_protocol) {\\n'\n",
      " '                                // Switches scheme to the current in use\\n'\n",
      " '                                var other_protocol = json.schemes[0];\\n'\n",
      " '                                json.schemes[0] = current_protocol;\\n'\n",
      " '                                json.schemes[1] = other_protocol;\\n'\n",
      " '\\n'\n",
      " '                            }\\n'\n",
      " '                            json.host = window.location.host;  // sets the '\n",
      " 'current host\\n'\n",
      " '\\n'\n",
      " '                            const ui = SwaggerUIBundle({\\n'\n",
      " '                                spec: json,\\n'\n",
      " '                                validatorUrl: null,\\n'\n",
      " \"                                dom_id: '#swagger-ui',\\n\"\n",
      " '                                deepLinking: true,\\n'\n",
      " '                                jsonEditor: true,\\n'\n",
      " '                                docExpansion: \"none\",\\n'\n",
      " '                                apisSorter: \"alpha\",\\n'\n",
      " '                                //operationsSorter: \"alpha\",\\n'\n",
      " '                                presets: [\\n'\n",
      " '                                    SwaggerUIBundle.presets.apis,\\n'\n",
      " '                                    // yay ES6 modules ↘\\n'\n",
      " '                                    Array.isArray(SwaggerUIStandalonePreset) '\n",
      " '? SwaggerUIStandalonePreset : SwaggerUIStandalonePreset.default\\n'\n",
      " '                                ],\\n'\n",
      " '                                plugins: [\\n'\n",
      " '                                    SwaggerUIBundle.plugins.DownloadUrl\\n'\n",
      " '                                ],\\n'\n",
      " '            \\n'\n",
      " '            // layout: \"StandaloneLayout\"  // uncomment to enable the green '\n",
      " 'top header\\n'\n",
      " '        })\\n'\n",
      " '\\n'\n",
      " '        window.ui = ui\\n'\n",
      " '\\n'\n",
      " '        // uncomment to rename the top brand if layout is enabled\\n'\n",
      " '        // $(\".topbar-wrapper .link '\n",
      " 'span\").replaceWith(\"<span>httpbin</span>\");\\n'\n",
      " '        })\\n'\n",
      " '    })\\n'\n",
      " '}\\n'\n",
      " \"    </script>  <div class='swagger-ui'>\\n\"\n",
      " '    <div class=\"wrapper\">\\n'\n",
      " '        <section class=\"block col-12 block-desktop col-12-desktop\">\\n'\n",
      " '            <div>\\n'\n",
      " '\\n'\n",
      " '                <h2>Other Utilities</h2>\\n'\n",
      " '\\n'\n",
      " '                <ul>\\n'\n",
      " '                    <li>\\n'\n",
      " '                        <a href=\"/forms/post\">HTML form</a> that posts to '\n",
      " '/post /forms/post</li>\\n'\n",
      " '                </ul>\\n'\n",
      " '\\n'\n",
      " '                <br />\\n'\n",
      " '                <br />\\n'\n",
      " '            </div>\\n'\n",
      " '        </section>\\n'\n",
      " '    </div>\\n'\n",
      " '</div>\\n'\n",
      " '</body>\\n'\n",
      " '\\n'\n",
      " '</html>')\n"
     ]
    }
   ],
   "source": [
    "pprint(html)"
   ]
  },
  {
   "cell_type": "code",
   "execution_count": 16,
   "metadata": {},
   "outputs": [
    {
     "name": "stdout",
     "output_type": "stream",
     "text": [
      "{'-content-encoding': 'gzip',\n",
      " 'cache-control': 'private, max-age=0',\n",
      " 'content-length': '13786',\n",
      " 'content-location': 'http://www.google.com/',\n",
      " 'content-type': 'text/html; charset=ISO-8859-1',\n",
      " 'date': 'Tue, 25 Aug 2020 10:34:20 GMT',\n",
      " 'expires': '-1',\n",
      " 'p3p': 'CP=\"This is not a P3P policy! See g.co/p3phelp for more info.\"',\n",
      " 'server': 'gws',\n",
      " 'set-cookie': '1P_JAR=2020-08-25-10; expires=Thu, 24-Sep-2020 10:34:20 GMT; '\n",
      "               'path=/; domain=.google.com; Secure, '\n",
      "               'NID=204=NZfHiPZR1NcQfsYKxwHmbm0xUwG6SsKzZ-Vdr4775hIJ8flNNOZieUBYNtz3ZCtgHhO-pDb00jfWdNoWtzI-Udg5lHmF-tSMgyJb51z_f8nwDGl4-lxz2bvVBBVpFKUIeGyxFUDyxdmo7gSRs4DU03NOgU0nRYGVIxuy8DlHjdc; '\n",
      "               'expires=Wed, 24-Feb-2021 10:34:20 GMT; path=/; '\n",
      "               'domain=.google.com; HttpOnly',\n",
      " 'status': '200',\n",
      " 'x-frame-options': 'SAMEORIGIN',\n",
      " 'x-xss-protection': '0'}\n"
     ]
    }
   ],
   "source": [
    "resp, data = http.request('http://google.com')\n",
    "pprint(resp)"
   ]
  },
  {
   "cell_type": "code",
   "execution_count": 17,
   "metadata": {},
   "outputs": [],
   "source": [
    "resp, data = http.request(bin_url, method = \"OPTIONS\")"
   ]
  },
  {
   "cell_type": "code",
   "execution_count": 18,
   "metadata": {},
   "outputs": [
    {
     "name": "stdout",
     "output_type": "stream",
     "text": [
      "{'access-control-allow-credentials': 'true',\n",
      " 'access-control-allow-methods': 'GET, POST, PUT, DELETE, PATCH, OPTIONS',\n",
      " 'access-control-allow-origin': '*',\n",
      " 'access-control-max-age': '3600',\n",
      " 'allow': 'GET, OPTIONS, HEAD',\n",
      " 'connection': 'keep-alive',\n",
      " 'content-length': '0',\n",
      " 'content-location': 'https://httpbin.org/',\n",
      " 'content-type': 'text/html; charset=utf-8',\n",
      " 'date': 'Tue, 25 Aug 2020 10:35:46 GMT',\n",
      " 'server': 'gunicorn/19.9.0',\n",
      " 'status': '200'}\n"
     ]
    }
   ],
   "source": [
    "pprint(resp)"
   ]
  },
  {
   "cell_type": "code",
   "execution_count": 19,
   "metadata": {},
   "outputs": [
    {
     "name": "stdout",
     "output_type": "stream",
     "text": [
      "{'access-control-allow-credentials': 'true',\n",
      " 'access-control-allow-origin': '*',\n",
      " 'connection': 'keep-alive',\n",
      " 'content-length': '519',\n",
      " 'content-type': 'application/json',\n",
      " 'date': 'Tue, 25 Aug 2020 10:38:51 GMT',\n",
      " 'server': 'gunicorn/19.9.0',\n",
      " 'status': '200'}\n"
     ]
    }
   ],
   "source": [
    "post_data = '{\"name\": \"Alice\", \"college\": \"Harvard\"}'\n",
    "resp, data = http.request('https://httpbin.org/post',\n",
    "                         method = \"POST\",\n",
    "                         body = post_data,\n",
    "                         headers = {'content-type':'application/json'})\n",
    "pprint(resp)"
   ]
  },
  {
   "cell_type": "code",
   "execution_count": 20,
   "metadata": {},
   "outputs": [
    {
     "name": "stdout",
     "output_type": "stream",
     "text": [
      "('{\\n'\n",
      " '  \"args\": {}, \\n'\n",
      " '  \"data\": \"{\\\\\"name\\\\\": \\\\\"Alice\\\\\", \\\\\"college\\\\\": \\\\\"Harvard\\\\\"}\", \\n'\n",
      " '  \"files\": {}, \\n'\n",
      " '  \"form\": {}, \\n'\n",
      " '  \"headers\": {\\n'\n",
      " '    \"Accept-Encoding\": \"gzip, deflate\", \\n'\n",
      " '    \"Content-Length\": \"39\", \\n'\n",
      " '    \"Content-Type\": \"application/json\", \\n'\n",
      " '    \"Host\": \"httpbin.org\", \\n'\n",
      " '    \"User-Agent\": \"Python-httplib2/0.18.1 (gzip)\", \\n'\n",
      " '    \"X-Amzn-Trace-Id\": \"Root=1-5f44ea3b-fdaefbac96e688f86bdc7c68\"\\n'\n",
      " '  }, \\n'\n",
      " '  \"json\": {\\n'\n",
      " '    \"college\": \"Harvard\", \\n'\n",
      " '    \"name\": \"Alice\"\\n'\n",
      " '  }, \\n'\n",
      " '  \"origin\": \"92.5.103.92\", \\n'\n",
      " '  \"url\": \"https://httpbin.org/post\"\\n'\n",
      " '}\\n')\n"
     ]
    }
   ],
   "source": [
    "pprint(data.decode('UTF-8'))"
   ]
  },
  {
   "cell_type": "code",
   "execution_count": 21,
   "metadata": {},
   "outputs": [
    {
     "data": {
      "text/plain": [
       "True"
      ]
     },
     "execution_count": 21,
     "metadata": {},
     "output_type": "execute_result"
    }
   ],
   "source": [
    "http.follow_redirects"
   ]
  },
  {
   "cell_type": "code",
   "execution_count": 24,
   "metadata": {},
   "outputs": [
    {
     "name": "stdout",
     "output_type": "stream",
     "text": [
      "{'connection': 'keep-alive',\n",
      " 'content-length': '0',\n",
      " 'content-type': 'text/plain; charset=utf-8',\n",
      " 'date': 'Tue, 25 Aug 2020 13:29:50 GMT',\n",
      " 'server': 'awselb/2.0',\n",
      " 'status': '404'}\n"
     ]
    }
   ],
   "source": [
    "resp, data = http.request('https://httpbin.org/absolute-redirect/1',\n",
    "                         method = 'GET')\n",
    "pprint(resp)"
   ]
  },
  {
   "cell_type": "code",
   "execution_count": 23,
   "metadata": {},
   "outputs": [
    {
     "data": {
      "text/plain": [
       "False"
      ]
     },
     "execution_count": 23,
     "metadata": {},
     "output_type": "execute_result"
    }
   ],
   "source": [
    "http.follow_all_redirects"
   ]
  },
  {
   "cell_type": "code",
   "execution_count": 25,
   "metadata": {},
   "outputs": [
    {
     "name": "stdout",
     "output_type": "stream",
     "text": [
      "{'connection': 'keep-alive',\n",
      " 'content-length': '0',\n",
      " 'content-type': 'text/plain; charset=utf-8',\n",
      " 'date': 'Tue, 25 Aug 2020 13:29:56 GMT',\n",
      " 'server': 'awselb/2.0',\n",
      " 'status': '404'}\n"
     ]
    }
   ],
   "source": [
    "resp, data = http.request('https://httpbin.org/absolute-redirect/1',\n",
    "                         method = 'GET')\n",
    "pprint(resp)\n"
   ]
  },
  {
   "cell_type": "code",
   "execution_count": 26,
   "metadata": {},
   "outputs": [],
   "source": [
    "resp.previous"
   ]
  },
  {
   "cell_type": "code",
   "execution_count": 27,
   "metadata": {},
   "outputs": [
    {
     "data": {
      "text/plain": [
       "True"
      ]
     },
     "execution_count": 27,
     "metadata": {},
     "output_type": "execute_result"
    }
   ],
   "source": [
    "http.follow_redirects"
   ]
  },
  {
   "cell_type": "code",
   "execution_count": 28,
   "metadata": {},
   "outputs": [
    {
     "data": {
      "text/plain": [
       "{'server': 'awselb/2.0',\n",
       " 'date': 'Tue, 25 Aug 2020 13:29:56 GMT',\n",
       " 'content-type': 'text/plain; charset=utf-8',\n",
       " 'content-length': '0',\n",
       " 'connection': 'keep-alive',\n",
       " 'status': '404'}"
      ]
     },
     "execution_count": 28,
     "metadata": {},
     "output_type": "execute_result"
    }
   ],
   "source": [
    "resp"
   ]
  },
  {
   "cell_type": "code",
   "execution_count": 29,
   "metadata": {},
   "outputs": [
    {
     "data": {
      "text/plain": [
       "b''"
      ]
     },
     "execution_count": 29,
     "metadata": {},
     "output_type": "execute_result"
    }
   ],
   "source": [
    "data"
   ]
  },
  {
   "cell_type": "code",
   "execution_count": 30,
   "metadata": {},
   "outputs": [
    {
     "data": {
      "text/plain": [
       "{'server': 'awselb/2.0',\n",
       " 'date': 'Tue, 25 Aug 2020 13:29:56 GMT',\n",
       " 'content-type': 'text/plain; charset=utf-8',\n",
       " 'content-length': '0',\n",
       " 'connection': 'keep-alive',\n",
       " 'status': '404'}"
      ]
     },
     "execution_count": 30,
     "metadata": {},
     "output_type": "execute_result"
    }
   ],
   "source": [
    "resp"
   ]
  },
  {
   "cell_type": "code",
   "execution_count": 33,
   "metadata": {},
   "outputs": [
    {
     "name": "stdout",
     "output_type": "stream",
     "text": [
      "{'connection': 'keep-alive',\n",
      " 'content-length': '0',\n",
      " 'content-type': 'text/plain; charset=utf-8',\n",
      " 'date': 'Tue, 25 Aug 2020 13:36:10 GMT',\n",
      " 'server': 'awselb/2.0',\n",
      " 'status': '404'}\n"
     ]
    }
   ],
   "source": [
    "resp, data = http.request('https://httpbin.org/redirect-to?url=https://google.com',\n",
    "              method = 'GET')\n",
    "pprint(resp)"
   ]
  },
  {
   "cell_type": "code",
   "execution_count": null,
   "metadata": {},
   "outputs": [],
   "source": []
  }
 ],
 "metadata": {
  "kernelspec": {
   "display_name": "Python 3",
   "language": "python",
   "name": "python3"
  },
  "language_info": {
   "codemirror_mode": {
    "name": "ipython",
    "version": 3
   },
   "file_extension": ".py",
   "mimetype": "text/x-python",
   "name": "python",
   "nbconvert_exporter": "python",
   "pygments_lexer": "ipython3",
   "version": "3.8.5"
  }
 },
 "nbformat": 4,
 "nbformat_minor": 4
}
